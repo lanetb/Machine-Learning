{
 "cells": [
  {
   "cell_type": "markdown",
   "metadata": {},
   "source": [
    "# Data Sets And Numpy\n",
    "\n",
    "A learning example is comprised of a set of *features* (or *attributes*, or *dimensions*).  In the case where the features are real-valued, each example can be considered a *vector* or a *point*. Let $x$ represent an individual example. Let $d$ be the dimensionality of $x$ Thus, each example $x$ is a single point where $x \\in \\mathbb{R}^{d}$.\n",
    "\n",
    "In Python, example data is typically store in matrix form.  In ML, this data can be\n",
    "stored 2 ways, in rows, as shown on the left, and in columns, as is shown on the right. \n",
    "\n",
    "$\n",
    "\\begin{bmatrix} \n",
    "--        &    x^{(1)}    & -- \\\\\n",
    "--        &    x^{(2)}     & -- \\\\ \n",
    "--         & ...             & -- \\\\\n",
    "--         & x^{(m)}    & --   \\\\\n",
    "\\end{bmatrix}\n",
    "$ or\n",
    "$\n",
    "\\begin{bmatrix} \n",
    "|            &     |         & |    &   |     \\\\\n",
    "x^{(1)}   & x^{(2)}& ... & x^{(m)} \\\\\n",
    "|            &     |         & |    &   |     \\\\\n",
    "\\end{bmatrix}\n",
    "$\n",
    "\n",
    "### QUESTION\n",
    "*   Consider two points, $x^{(1)}$ = (1,3) and $x^{(2)}$ = (2,5).\n",
    "Calculate, by hand, the Euclidean distance between these two points. \n",
    "Recall that the the formula for Euclidean distance is $$\\sqrt { \\sum_{i=0}^{d-1}{(x_{i}^{(1)} - x_{i}^{(2)})^2}}$$. \n"
   ]
  },
  {
   "cell_type": "markdown",
   "metadata": {},
   "source": [
    "---\n",
    "## PART 1 - Processing Numpy Arrays Using Loops\n",
    "\n",
    "Until now, you have primarily used *for* loops for performing mathematical operations\n",
    "on arrays of numbers.  As an example of doing this in Python, you can use a loop to work \n",
    "with a numpy vector:"
   ]
  },
  {
   "cell_type": "code",
   "execution_count": 1,
   "metadata": {},
   "outputs": [],
   "source": [
    "import numpy as np\n",
    "x = np.random.rand(10)\n",
    "sum_x = 0\n",
    "for i in range(x.shape[0]):\n",
    "    sum_x += x[i]"
   ]
  },
  {
   "cell_type": "markdown",
   "metadata": {},
   "source": [
    "### Exercise 1\n",
    "\n",
    "Open `distances.py` in an editor and complete the `distance_loop` function using a for loop. You can test your implementation by executing the cell below."
   ]
  },
  {
   "cell_type": "code",
   "execution_count": 8,
   "metadata": {},
   "outputs": [
    {
     "name": "stdout",
     "output_type": "stream",
     "text": [
      "1.7320508075688772\n"
     ]
    }
   ],
   "source": [
    "# Run this cell as a test...\n",
    "%reload_ext autoreload\n",
    "%autoreload 2\n",
    "np.set_printoptions(precision=2)\n",
    "\n",
    "import distances\n",
    "\n",
    "a = np.array([1.0, 2.0, 3.0])\n",
    "b = np.array([0.0, 1.0, 4.0])\n",
    "\n",
    "print(distances.distance_loop(a, b)) # answer should be 1.7320508075688772"
   ]
  },
  {
   "cell_type": "markdown",
   "metadata": {},
   "source": [
    "### Exercise 2\n",
    "Later in the semester, we will study the *K-Nearest Neighbors* algorithm.  The simplest version is 1-Nearest Neighbors, which classifies a target point by searching through the training data to find the single point that is nearest to the target, and using the class of that point as a prediction.  Use for loops, and your completed `distance_loop` function, to complete the `nearest_loop` function (which would be useful for implementing 1-Nearest Neighbors classifier). \n",
    "\n",
    "Some useful facts/reminders:"
   ]
  },
  {
   "cell_type": "code",
   "execution_count": 22,
   "metadata": {},
   "outputs": [
    {
     "name": "stdout",
     "output_type": "stream",
     "text": [
      "[[0.48 0.64 0.13]\n",
      " [0.73 0.52 0.91]\n",
      " [0.   0.96 0.11]\n",
      " [0.42 0.38 0.57]\n",
      " [0.83 0.9  0.12]]\n",
      "(5, 3)\n"
     ]
    }
   ],
   "source": [
    "# The shape attribute returns a tuple containing the shape of a numpy array:\n",
    "\n",
    "X = np.random.random((5,3))\n",
    "print(X)\n",
    "print(X.shape)"
   ]
  },
  {
   "cell_type": "code",
   "execution_count": 23,
   "metadata": {},
   "outputs": [
    {
     "name": "stdout",
     "output_type": "stream",
     "text": [
      "[0.64 0.52 0.96 0.38 0.9 ]\n"
     ]
    }
   ],
   "source": [
    "# Slicing can be used to extract a single row or column from a numpy array.  \n",
    "# This extracts the middle column from X:\n",
    "\n",
    "print(X[:,1])"
   ]
  },
  {
   "cell_type": "markdown",
   "metadata": {},
   "source": [
    "Execute the cell below to test your implementation."
   ]
  },
  {
   "cell_type": "code",
   "execution_count": 15,
   "metadata": {},
   "outputs": [
    {
     "name": "stdout",
     "output_type": "stream",
     "text": [
      "3\n"
     ]
    }
   ],
   "source": [
    "data = np.array([[0.71, 0.74, 0.06],\n",
    "                 [0.86, 0.5 , 0.18],\n",
    "                 [0.35, 0.47, 0.03],\n",
    "                 [0.57, 0.32, 0.65],\n",
    "                 [0.3 , 0.17, 0.21],\n",
    "                 [0.15, 1.  , 0.74]])\n",
    "point = np.array([.6, .3, .7])\n",
    "\n",
    "print(distances.nearest_loop(data, point)) # Should print 3"
   ]
  },
  {
   "cell_type": "markdown",
   "metadata": {},
   "source": [
    "## PART 2 - Processing Numpy Arrays WITHOUT Loops\n",
    "\n",
    "Loops in Python are sllloooowwww.  The key to writing fast numerical programs in Python is to avoid loops by taking advantage of numpy operators and library calls.\n",
    "\n",
    "### Exercise 3\n",
    "\n",
    "Complete the `distance` function in `distances.py`.  The functionality should be exactly the same as `distance_loop`, but your implementation *should not contain any loops* (or list comprehensions).  Execute the following cells to test your implementation and compare the speed to our previous version."
   ]
  },
  {
   "cell_type": "code",
   "execution_count": 17,
   "metadata": {},
   "outputs": [
    {
     "name": "stdout",
     "output_type": "stream",
     "text": [
      "1.7320508075688772\n"
     ]
    }
   ],
   "source": [
    "# TEST CORRECTNESS\n",
    "%reload_ext autoreload\n",
    "%autoreload 2\n",
    "\n",
    "a = np.array([1.0, 2.0, 3.0])\n",
    "b = np.array([0.0, 1.0, 4.0])\n",
    "\n",
    "print(distances.distance(a, b)) # answer should be 1.7320508075688772"
   ]
  },
  {
   "cell_type": "code",
   "execution_count": 16,
   "metadata": {},
   "outputs": [
    {
     "name": "stdout",
     "output_type": "stream",
     "text": [
      "6.64 ms ± 97.6 µs per loop (mean ± std. dev. of 7 runs, 100 loops each)\n",
      "20.7 µs ± 1.38 µs per loop (mean ± std. dev. of 7 runs, 10,000 loops each)\n"
     ]
    }
   ],
   "source": [
    "# TEST SPEED\n",
    "dim = 10000 # Try changing this value to see how it impacts the running times.\n",
    "a = np.random.random(dim)\n",
    "b = np.random.random(dim)\n",
    "%timeit distances.distance_loop(a, b)\n",
    "%timeit distances.distance(a, b)"
   ]
  },
  {
   "cell_type": "markdown",
   "metadata": {},
   "source": [
    "### Exercise 4\n",
    "\n",
    "Complete the `nearest` function in `distances.py`. The functionality should be exactly the same as `nearest_loop`, but your implementation should not contain any loops (or list comprehensions). Execute the following cells to test your implementation and compare the speed to the earlier version.  Note that your updated implementation should *not* call your `distance` function... doing so would require you to loop through all of the rows of `X`.\n",
    "\n",
    "Reminders/Hints:"
   ]
  },
  {
   "cell_type": "code",
   "execution_count": null,
   "metadata": {},
   "outputs": [],
   "source": [
    "# \"Broadcasting\" can be used to apply the same operation across all rows/columns of an array:\n",
    "X = np.random.random((5, 3))\n",
    "a = np.array([10, 20, 30])\n",
    "print(\"X:\\n{}\".format(X))\n",
    "print(\"a:\\n{}\".format(a))\n",
    "print(\"\\nX + a:\\n{}\".format(X + a))"
   ]
  },
  {
   "cell_type": "code",
   "execution_count": null,
   "metadata": {},
   "outputs": [],
   "source": [
    "# argmin can be used to find the index of the smallest element in an array:\n",
    "b = np.array([5, 5, 1, 5])\n",
    "print(np.argmin(b))"
   ]
  },
  {
   "cell_type": "markdown",
   "metadata": {},
   "source": [
    "Execute the cells below to test the correctness and speed of your implementation."
   ]
  },
  {
   "cell_type": "code",
   "execution_count": 36,
   "metadata": {},
   "outputs": [
    {
     "name": "stdout",
     "output_type": "stream",
     "text": [
      "3\n"
     ]
    }
   ],
   "source": [
    "# TEST CORRECTNESS\n",
    "data = np.array([[0.71, 0.74, 0.06],\n",
    "                 [0.86, 0.5 , 0.18],\n",
    "                 [0.35, 0.47, 0.03],\n",
    "                 [0.57, 0.32, 0.65],\n",
    "                 [0.3 , 0.17, 0.21],\n",
    "                 [0.15, 1.  , 0.74]])\n",
    "point = np.array([.6, .3, .7])\n",
    "\n",
    "print(distances.nearest(data, point)) # Should print 3"
   ]
  },
  {
   "cell_type": "code",
   "execution_count": 34,
   "metadata": {},
   "outputs": [
    {
     "name": "stdout",
     "output_type": "stream",
     "text": [
      "484 ms ± 22 ms per loop (mean ± std. dev. of 7 runs, 1 loop each)\n",
      "5.9 ms ± 149 µs per loop (mean ± std. dev. of 7 runs, 100 loops each)\n"
     ]
    }
   ],
   "source": [
    "# TEST SPEED\n",
    "dim = 3\n",
    "num = 100000\n",
    "data1 = np.random.random((num, dim))\n",
    "point1 = np.random.random(dim)\n",
    "\n",
    "%timeit distances.nearest_loop(data1, point1)\n",
    "%timeit distances.nearest(data1, point1)"
   ]
  },
  {
   "cell_type": "markdown",
   "metadata": {},
   "source": [
    "## Part 3 - Numpy Masking\n",
    "\n",
    "The cell below loads a tiny data set of handwritten digits and displays the first digit as an image."
   ]
  },
  {
   "cell_type": "code",
   "execution_count": 37,
   "metadata": {},
   "outputs": [
    {
     "name": "stdout",
     "output_type": "stream",
     "text": [
      "(1797, 64)\n",
      "(1797,)\n"
     ]
    },
    {
     "data": {
      "text/plain": [
       "<Figure size 640x480 with 0 Axes>"
      ]
     },
     "metadata": {},
     "output_type": "display_data"
    },
    {
     "data": {
      "image/png": "[encoded data removed]",
      "text/plain": [
       "<Figure size 480x480 with 1 Axes>"
      ]
     },
     "metadata": {},
     "output_type": "display_data"
    }
   ],
   "source": [
    "from sklearn.datasets import load_digits\n",
    "digits, labels = load_digits(return_X_y=True)\n",
    "\n",
    "print(digits.shape)\n",
    "print(labels.shape)\n",
    "\n",
    "# Show the fist digit in the data set:\n",
    "import matplotlib.pyplot as plt \n",
    "plt.gray() \n",
    "plt.matshow(digits[0,:].reshape(8,8)) \n",
    "plt.show() "
   ]
  },
  {
   "cell_type": "markdown",
   "metadata": {},
   "source": [
    "### Exercise 5\n",
    "\n",
    "Use numpy operations to create a smaller data set that contains only the the 1's and 7's from the data set imported above. Store the images in an array named `digits_subset` and the labels in an array named `labels_subset`"
   ]
  },
  {
   "cell_type": "code",
   "execution_count": 44,
   "metadata": {},
   "outputs": [
    {
     "name": "stdout",
     "output_type": "stream",
     "text": [
      "(361, 64)\n",
      "(361,)\n"
     ]
    }
   ],
   "source": [
    "# YOUR CODE HERE...\n",
    "digits_subset_mask = (labels == 1) | (labels == 7)\n",
    "digits_subset = digits[digits_subset_mask]\n",
    "labels_subset = labels[digits_subset_mask]\n",
    "print(digits_subset.shape) # should be (361, 64)\n",
    "print(labels_subset.shape) # should be (361,)"
   ]
  },
  {
   "cell_type": "code",
   "execution_count": null,
   "metadata": {},
   "outputs": [],
   "source": [
    "plt.gray() \n",
    "plt.matshow(digits_subset[0,:].reshape(8,8)) # should be a \"1\"\n",
    "plt.figure()\n",
    "plt.matshow(digits_subset[180,:].reshape(8,8))  # should be \"7\"\n",
    "plt.show() "
   ]
  },
  {
   "cell_type": "code",
   "execution_count": null,
   "metadata": {},
   "outputs": [],
   "source": []
  }
 ],
 "metadata": {
  "kernelspec": {
   "display_name": "Python 3 (ipykernel)",
   "language": "python",
   "name": "python3"
  },
  "language_info": {
   "codemirror_mode": {
    "name": "ipython",
    "version": 3
   },
   "file_extension": ".py",
   "mimetype": "text/x-python",
   "name": "python",
   "nbconvert_exporter": "python",
   "pygments_lexer": "ipython3",
   "version": "3.10.6"
  }
 },
 "nbformat": 4,
 "nbformat_minor": 4
}
