{
 "cells": [
  {
   "cell_type": "markdown",
   "metadata": {
    "deletable": false,
    "editable": false,
    "nbgrader": {
     "cell_type": "markdown",
     "checksum": "5b1827df0dece85111671cddc2ad838e",
     "grade": false,
     "grade_id": "cell-e9d328419bf58b12",
     "locked": true,
     "schema_version": 3,
     "solution": false,
     "task": false
    }
   },
   "source": [
    "# Data Normalization\n",
    "\n",
    "## Learning objectives\n",
    "*After completing this activity, you should be able to:*\n",
    "- discuss the importance of normalization and scaling\n",
    "- implement *min-max scaling* in Python\n",
    "- utilize scikit-learn to perform normalization\n",
    "\n",
    "## Groups\n",
    "You may optionally work in groups for this assignment.  The maximum size of a group is 2.\n"
   ]
  },
  {
   "cell_type": "markdown",
   "metadata": {},
   "source": [
    "Please place your complete group members name here in the list below:\n",
    "- Tommy Lane\n",
    "- person B\n"
   ]
  },
  {
   "cell_type": "markdown",
   "metadata": {
    "deletable": false,
    "editable": false,
    "nbgrader": {
     "cell_type": "markdown",
     "checksum": "fa4611fd1a25f3892ff764aaead62633",
     "grade": false,
     "grade_id": "cell-846d5d75e08965fc",
     "locked": true,
     "schema_version": 3,
     "solution": false,
     "task": false
    }
   },
   "source": [
    "## Background\n",
    "The features in your your data can have large differences in terms \n",
    "of magnitude, units, and range. The similarity and dissimilarity measures that ML algorithms employ are not aware of these differences, and depending on the technique applied, can produce misleading results if care is not taken to preprocess this information.\n",
    "The matrix, *X* (shown below) has 2 dimensions, column 0 represents the feature *age* and column 1 represents the *salary*.  Each row respresents one data point/person/observation.\n",
    "\n",
    "$\n",
    "\\begin{bmatrix} \n",
    "23   &  56000 \\\\\n",
    "35   &  75000 \\\\ \n",
    "55   &  76000 \\\\\n",
    "\\end{bmatrix}\n",
    "$\n",
    "\n",
    "Consider a single data example, *p*, where p = [39, 75750].\n"
   ]
  },
  {
   "cell_type": "markdown",
   "metadata": {
    "deletable": false,
    "editable": false,
    "nbgrader": {
     "cell_type": "markdown",
     "checksum": "7ca9f8460e003d4fa736599d51727958",
     "grade": false,
     "grade_id": "cell-eeda90bd7e602aaf",
     "locked": true,
     "schema_version": 3,
     "solution": false,
     "task": false
    }
   },
   "source": [
    "### <span style=\"color:red\">Question #1</span>\n",
    "Write code to create a numpy matrix *X* and vector *p*\n",
    "(represent *p* still as a matrix with one row if you need to) \n",
    "with this data.\n"
   ]
  },
  {
   "cell_type": "code",
   "execution_count": 11,
   "metadata": {
    "deletable": false,
    "nbgrader": {
     "cell_type": "code",
     "checksum": "8a30657bb314be42ed89af9285fad2af",
     "grade": true,
     "grade_id": "cell-f5f36edcf5e894bb",
     "locked": false,
     "points": 5,
     "schema_version": 3,
     "solution": true,
     "task": false
    }
   },
   "outputs": [],
   "source": [
    "## Your Code here.\n",
    "\n",
    "import numpy as np\n",
    "\n",
    "## declare X with values as shown above \n",
    "# declare p with values as shown above\n",
    "X = np.matrix([[23, 56000],[35, 75000],[55, 76000]])\n",
    "p = np.matrix([[39, 75750]])"
   ]
  },
  {
   "cell_type": "markdown",
   "metadata": {
    "deletable": false,
    "editable": false,
    "nbgrader": {
     "cell_type": "markdown",
     "checksum": "90bb8060db3bf80e44384ad1ad2ab58d",
     "grade": false,
     "grade_id": "cell-f962a3398dc35625",
     "locked": true,
     "schema_version": 3,
     "solution": false,
     "task": false
    }
   },
   "source": [
    "### <span style=\"color:red\">Question #2</span>\n",
    "Without using the computer and just using your thoughts,\n",
    "which row/observation in matrix *X* is the most similar \n",
    "to the observation represented by vector *p*? \n",
    "Think about what the columns are encoding and explain your answer \n",
    "(do not do any distance calculations, imagine you were not a machine \n",
    " learning student or a computer scientist).\n"
   ]
  },
  {
   "cell_type": "markdown",
   "metadata": {
    "deletable": false,
    "nbgrader": {
     "cell_type": "markdown",
     "checksum": "39452130d001bd0d041901d510a168d0",
     "grade": true,
     "grade_id": "cell-2504d862ebfb90c8",
     "locked": false,
     "points": 5,
     "schema_version": 3,
     "solution": true,
     "task": false
    }
   },
   "source": [
    "The row that is the most similar would be the second row because the age and salary are closest to the age and salary of p."
   ]
  },
  {
   "cell_type": "markdown",
   "metadata": {
    "deletable": false,
    "editable": false,
    "nbgrader": {
     "cell_type": "markdown",
     "checksum": "3f31e6d0220452c0668f9ade88d71ee6",
     "grade": false,
     "grade_id": "cell-9688e308d8c58d2b",
     "locked": true,
     "schema_version": 3,
     "solution": false,
     "task": false
    }
   },
   "source": [
    "### <span style=\"color:red\">Question #3</span>\n",
    "\n",
    "Compute the distance between *p* and each example in *X* using \n",
    "the Euclidian distance. You can use the [sklearn.metrics.pairwise_distances_argmin_min function](https://scikit-learn.org/stable/modules/generated/sklearn.metrics.pairwise_distances_argmin_min.html), \n",
    "that returns a 2 column array with the index of the nearest point and the actual distance calculated. \n",
    "\n",
    "Return the results of the function into a variable named **p_closest**. Which vector (row number, starting from 0) in X did this method identify as the closest to p."
   ]
  },
  {
   "cell_type": "code",
   "execution_count": 12,
   "metadata": {
    "deletable": false,
    "nbgrader": {
     "cell_type": "code",
     "checksum": "3e426e15ae296ff16dfc7f469d6e1bc3",
     "grade": true,
     "grade_id": "cell-694ff5958b6ce547",
     "locked": false,
     "points": 10,
     "schema_version": 3,
     "solution": true,
     "task": false
    }
   },
   "outputs": [
    {
     "name": "stdout",
     "output_type": "stream",
     "text": [
      "(array([2], dtype=int64), array([250.51147678]))\n"
     ]
    },
    {
     "name": "stderr",
     "output_type": "stream",
     "text": [
      "c:\\Users\\tommy\\cs445_venv\\lib\\site-packages\\sklearn\\utils\\validation.py:727: FutureWarning: np.matrix usage is deprecated in 1.0 and will raise a TypeError in 1.2. Please convert to a numpy array with np.asarray. For more information see: https://numpy.org/doc/stable/reference/generated/numpy.matrix.html\n",
      "  warnings.warn(\n",
      "c:\\Users\\tommy\\cs445_venv\\lib\\site-packages\\sklearn\\utils\\validation.py:727: FutureWarning: np.matrix usage is deprecated in 1.0 and will raise a TypeError in 1.2. Please convert to a numpy array with np.asarray. For more information see: https://numpy.org/doc/stable/reference/generated/numpy.matrix.html\n",
      "  warnings.warn(\n"
     ]
    }
   ],
   "source": [
    "import sklearn.metrics\n",
    "\n",
    "p_closest = sklearn.metrics.pairwise_distances_argmin_min(p,X)\n",
    "print(p_closest)"
   ]
  },
  {
   "cell_type": "markdown",
   "metadata": {
    "deletable": false,
    "editable": false,
    "nbgrader": {
     "cell_type": "markdown",
     "checksum": "b84e07be3a9fae1f44d77360c95d1d24",
     "grade": false,
     "grade_id": "cell-22368a381f2f6287",
     "locked": true,
     "schema_version": 3,
     "solution": false,
     "task": false
    }
   },
   "source": [
    "### <span style=\"color:red\">Question #4</span>\n",
    "What point was the closest distance wise?  Is this the same point as you identified in question 2?\n"
   ]
  },
  {
   "cell_type": "markdown",
   "metadata": {
    "deletable": false,
    "nbgrader": {
     "cell_type": "markdown",
     "checksum": "8f39f3564df09a7038d002014df66f89",
     "grade": true,
     "grade_id": "cell-06102524b938f95b",
     "locked": false,
     "points": 5,
     "schema_version": 3,
     "solution": true,
     "task": false
    }
   },
   "source": [
    "The closest point distance wise was row 3 or age 55 salary 76000. This is not the same point that I identified in question 2."
   ]
  },
  {
   "cell_type": "markdown",
   "metadata": {
    "deletable": false,
    "editable": false,
    "nbgrader": {
     "cell_type": "markdown",
     "checksum": "a14beca274013567052f38cdcb957f06",
     "grade": false,
     "grade_id": "cell-6d1046213a4a8c4f",
     "locked": true,
     "schema_version": 3,
     "solution": false,
     "task": false
    }
   },
   "source": [
    "## Difference Scales in the Feature Space\n",
    "\n",
    "To compensate for the differences in magnitude, scale, units, etc.,\n",
    "it is important to **normalize** the data. This prevents features with different scales from dominating distance calculation. \n",
    "This formula below will transform the data using \n",
    "[min-max normalization](https://en.wikipedia.org/wiki/Feature_scaling).\n",
    "\n",
    "$\n",
    "x′_i = \\frac{x_i − min(X_i)}{max(X_i) - min(X_i)}\n",
    "$\n",
    "\n",
    "The max($X_i$) is the maximum value for column i (and the same idea for min). $x_i$ is the original data for a specific row and column $i$\n",
    "and $x′_i$ is the modified/scaled version."
   ]
  },
  {
   "cell_type": "markdown",
   "metadata": {
    "deletable": false,
    "editable": false,
    "nbgrader": {
     "cell_type": "markdown",
     "checksum": "caf4e7f8bc1a818eaacffe6324e14b48",
     "grade": false,
     "grade_id": "cell-a3a0e991560f6e0d",
     "locked": true,
     "schema_version": 3,
     "solution": false,
     "task": false
    }
   },
   "source": [
    "### <span style=\"color:red\">Question #5</span>\n",
    "Write Pyhon code in the cell below that creates a new matrix, X_norm, that represents a translated version of \n",
    "*X* using the formula shown in the above cell.  Please note:\n",
    "- *do* use vectorized numpy operations\n",
    "- **do NOT** use scikit learn or other normalization packages for these operations\n"
   ]
  },
  {
   "cell_type": "code",
   "execution_count": 86,
   "metadata": {
    "deletable": false,
    "nbgrader": {
     "cell_type": "code",
     "checksum": "b763652fcf8f325362f1aaf682509891",
     "grade": true,
     "grade_id": "cell-c143383aa8154dd8",
     "locked": false,
     "points": 5,
     "schema_version": 3,
     "solution": true,
     "task": false
    }
   },
   "outputs": [
    {
     "name": "stdout",
     "output_type": "stream",
     "text": [
      "[[0.    0.   ]\n",
      " [0.375 0.95 ]\n",
      " [1.    1.   ]]\n",
      "\n",
      "\n",
      "Question 7 answer:\n",
      "Distance before: 19000.003789473307\n",
      "Distance after:  19000.000003700658\n",
      "Relative distance Coloumn 1 and 2 before: 0.375 , 0.95\n",
      "Relative distance Coloumn 1 and 2 after:  0.375 , 0.95\n"
     ]
    }
   ],
   "source": [
    "\n",
    "top = np.subtract(X[:,0], np.min(X[:,0]))\n",
    "bottom = np.subtract(np.max(X[:,0]), np.min(X[:,0]))\n",
    "col1 = np.divide(top, bottom)\n",
    "\n",
    "top1 = np.subtract(X[:,1], np.min(X[:,1]))\n",
    "bottom1 = np.subtract(np.max(X[:,1]), np.min(X[:,1]))\n",
    "col2 = np.divide(top1, bottom1)\n",
    "\n",
    "X_norm = np.concatenate((col1, col2),axis=1)\n",
    "print(X_norm)\n",
    "print(\"\\n\")\n",
    "print(\"Question 7 answer:\")\n",
    "x1 = np.array((X[0,0],X[0,1]))\n",
    "x2 = np.array((X[1,0],X[1,1]))\n",
    "y1 = np.array((X_norm[0,0],X[0,1]))\n",
    "y2 = np.array((X_norm[1,0],X[1,1]))\n",
    "print(\"Distance before:\" + \" \" + str(np.linalg.norm(x1 - x2)))\n",
    "print(\"Distance after:\" + \"  \" + str(np.linalg.norm(y1 - y2)))\n",
    "print(\"Relative distance Coloumn 1 and 2 before:\" + \" \" + str((X[1,0] - X[0,0])/(X[2,0] - X[0, 0])), end = \" , \")\n",
    "print(str((X[1,1] - X[0,1])/(X[2,1] - X[0, 1])))\n",
    "print(\"Relative distance Coloumn 1 and 2 after:\" + \"  \" + str((X_norm[1,0] - X_norm[0,0])/(X_norm[2,0] - X_norm[0, 0])), end = \" , \")\n",
    "print(str((X_norm[1,1] - X_norm[0,1])/(X_norm[2,1] - X_norm[0, 1])))"
   ]
  },
  {
   "cell_type": "markdown",
   "metadata": {
    "deletable": false,
    "editable": false,
    "nbgrader": {
     "cell_type": "markdown",
     "checksum": "df929b3d1aa1af989ac196791efa6c2d",
     "grade": false,
     "grade_id": "cell-d5ec208dfa8653fb",
     "locked": true,
     "schema_version": 3,
     "solution": false,
     "task": false
    }
   },
   "source": [
    "### <span style=\"color:red\">Question #6</span>\n",
    "Review the data in **X_norm** what are the range of values for each column. \n",
    "How do they compare to the original **X** matrix?"
   ]
  },
  {
   "cell_type": "markdown",
   "metadata": {
    "deletable": false,
    "nbgrader": {
     "cell_type": "markdown",
     "checksum": "21bfef64629af6eb53118ce46cca3299",
     "grade": true,
     "grade_id": "cell-657bdbf656f59c3d",
     "locked": false,
     "points": 5,
     "schema_version": 3,
     "solution": true,
     "task": false
    }
   },
   "source": [
    "The range of the values for both columns are 0-1. They are much smaller numbers then in the X matrix but convey the distance between the numbers more clearly"
   ]
  },
  {
   "cell_type": "markdown",
   "metadata": {
    "deletable": false,
    "editable": false,
    "nbgrader": {
     "cell_type": "markdown",
     "checksum": "608d753403695e41dfa47de25e63c81e",
     "grade": false,
     "grade_id": "cell-25fe0525f2903d34",
     "locked": true,
     "schema_version": 3,
     "solution": false,
     "task": false
    }
   },
   "source": [
    "### <span style=\"color:red\">Question #7</span>\n",
    "Is the transformation of data between *X* and **X_norm**\n",
    "represent a *linear* transform?  Recall that a linear transformation\n",
    "of distances means that for each dimension, the relative distance between points is maintained after the transformation.  \n",
    "\n",
    "Show the distance between two points (two rows in matrix) and show the relative distance in each dimension both before and after the transformation.\n"
   ]
  },
  {
   "cell_type": "markdown",
   "metadata": {
    "deletable": false,
    "nbgrader": {
     "cell_type": "markdown",
     "checksum": "ba4b7299ec643865373aaba0fc4bc9f4",
     "grade": true,
     "grade_id": "cell-9a6227282fec709c",
     "locked": false,
     "points": 5,
     "schema_version": 3,
     "solution": true,
     "task": false
    }
   },
   "source": [
    "See code above"
   ]
  },
  {
   "cell_type": "markdown",
   "metadata": {
    "deletable": false,
    "editable": false,
    "nbgrader": {
     "cell_type": "markdown",
     "checksum": "9e9a1ee6bedfa9ba6089558b075be4a7",
     "grade": false,
     "grade_id": "cell-3ca903a93beb7599",
     "locked": true,
     "schema_version": 3,
     "solution": false,
     "task": false
    }
   },
   "source": [
    "## Scikit Learn Min_max scaler object\n",
    "\n",
    "For models that are sensitive to scales between features, it is\n",
    "common practice to scale all the training/testing data. Scikit learn\n",
    "provides an object called [MinMaxScaler](https://scikit-learn.org/stable/modules/generated/sklearn.preprocessing.MinMaxScaler.html) to perform these operations. Here is an example of using this\n",
    "object on *X*.\n",
    "\n",
    "The code illustrates that the fit and transform operations can be performed in a single function call.  Fit determines how to scale \n",
    "each column (think of the equation from earlier, we need to record\n",
    "each columns min and max values) and transform computes $x'$ for each\n",
    "entry in the matrix.  Once the scaling object is *fitted*, we can\n",
    "then transform additional data as required (illustrated below on the \n",
    "vector **p**).  "
   ]
  },
  {
   "cell_type": "code",
   "execution_count": 45,
   "metadata": {},
   "outputs": [
    {
     "name": "stdout",
     "output_type": "stream",
     "text": [
      "[[0.    0.   ]\n",
      " [0.375 0.95 ]\n",
      " [1.    1.   ]]\n"
     ]
    },
    {
     "name": "stderr",
     "output_type": "stream",
     "text": [
      "c:\\Users\\tommy\\cs445_venv\\lib\\site-packages\\sklearn\\utils\\validation.py:727: FutureWarning: np.matrix usage is deprecated in 1.0 and will raise a TypeError in 1.2. Please convert to a numpy array with np.asarray. For more information see: https://numpy.org/doc/stable/reference/generated/numpy.matrix.html\n",
      "  warnings.warn(\n",
      "c:\\Users\\tommy\\cs445_venv\\lib\\site-packages\\sklearn\\utils\\validation.py:727: FutureWarning: np.matrix usage is deprecated in 1.0 and will raise a TypeError in 1.2. Please convert to a numpy array with np.asarray. For more information see: https://numpy.org/doc/stable/reference/generated/numpy.matrix.html\n",
      "  warnings.warn(\n",
      "c:\\Users\\tommy\\cs445_venv\\lib\\site-packages\\sklearn\\utils\\validation.py:727: FutureWarning: np.matrix usage is deprecated in 1.0 and will raise a TypeError in 1.2. Please convert to a numpy array with np.asarray. For more information see: https://numpy.org/doc/stable/reference/generated/numpy.matrix.html\n",
      "  warnings.warn(\n"
     ]
    }
   ],
   "source": [
    "# Example code of using scikit learn's scaler\n",
    "import numpy as np\n",
    "import sklearn.preprocessing as skp\n",
    "\n",
    "skScaler = skp.MinMaxScaler()\n",
    "X_norm_scikit = skScaler.fit_transform(X)\n",
    "p_min_max = skScaler.transform(p)"
   ]
  },
  {
   "cell_type": "markdown",
   "metadata": {
    "deletable": false,
    "editable": false,
    "nbgrader": {
     "cell_type": "markdown",
     "checksum": "937e5572db8ca1e253ee9eb45fc53f5b",
     "grade": false,
     "grade_id": "cell-a74dee21686b8db1",
     "locked": true,
     "schema_version": 3,
     "solution": false,
     "task": false
    }
   },
   "source": [
    "### <span style=\"color:red\">Question #8</span>\n",
    "In the code block below, find the nearest point in *X_norm_scikit* to *p_min_max*.  Is the nearest point the same as the one identified in question 2 and/or 3?  Make a few comments on why or why not the same points were identified and which one might be \"better\"."
   ]
  },
  {
   "cell_type": "code",
   "execution_count": 39,
   "metadata": {},
   "outputs": [
    {
     "name": "stdout",
     "output_type": "stream",
     "text": [
      "(array([1], dtype=int64), array([0.13050383]))\n"
     ]
    }
   ],
   "source": [
    "p_closest = sklearn.metrics.pairwise_distances_argmin_min(p_min_max,X_norm_scikit)\n",
    "print(p_closest)"
   ]
  },
  {
   "cell_type": "markdown",
   "metadata": {
    "deletable": false,
    "nbgrader": {
     "cell_type": "markdown",
     "checksum": "0df2cbd54bb4415affe3e58344c20919",
     "grade": true,
     "grade_id": "cell-81265402b7984e41",
     "locked": false,
     "points": 5,
     "schema_version": 3,
     "solution": true,
     "task": false
    }
   },
   "source": [
    "The nearest point is the same one identifed in question 2 it is better because both the age and the salary are closer together rather then in question 3 where only the salary is closer. "
   ]
  },
  {
   "cell_type": "markdown",
   "metadata": {
    "deletable": false,
    "editable": false,
    "nbgrader": {
     "cell_type": "markdown",
     "checksum": "eeb7f5f33f3647f9037ffe068fe44e57",
     "grade": false,
     "grade_id": "cell-40c1f717523e3b16",
     "locked": true,
     "schema_version": 3,
     "solution": false,
     "task": false
    }
   },
   "source": [
    "### <span style=\"color:red\">Question #9</span>\n",
    "List at least one complications that can arise when applying min_max scaling?"
   ]
  },
  {
   "cell_type": "code",
   "execution_count": 44,
   "metadata": {
    "deletable": false,
    "nbgrader": {
     "cell_type": "code",
     "checksum": "48f394e5e0cbec214ab87647aa15637b",
     "grade": true,
     "grade_id": "cell-d8c7d7578f22ea54",
     "locked": false,
     "points": 5,
     "schema_version": 3,
     "solution": true,
     "task": false
    }
   },
   "outputs": [
    {
     "name": "stdout",
     "output_type": "stream",
     "text": [
      "[[0.00000000e+00 0.00000000e+00]\n",
      " [1.41176471e-01 2.37666366e-04]\n",
      " [3.76470588e-01 2.50175123e-04]\n",
      " [1.00000000e+00 1.00000000e+00]]\n"
     ]
    },
    {
     "name": "stderr",
     "output_type": "stream",
     "text": [
      "c:\\Users\\tommy\\cs445_venv\\lib\\site-packages\\sklearn\\utils\\validation.py:727: FutureWarning: np.matrix usage is deprecated in 1.0 and will raise a TypeError in 1.2. Please convert to a numpy array with np.asarray. For more information see: https://numpy.org/doc/stable/reference/generated/numpy.matrix.html\n",
      "  warnings.warn(\n",
      "c:\\Users\\tommy\\cs445_venv\\lib\\site-packages\\sklearn\\utils\\validation.py:727: FutureWarning: np.matrix usage is deprecated in 1.0 and will raise a TypeError in 1.2. Please convert to a numpy array with np.asarray. For more information see: https://numpy.org/doc/stable/reference/generated/numpy.matrix.html\n",
      "  warnings.warn(\n"
     ]
    }
   ],
   "source": [
    "#if there is a big outlier added to the matrix column all the data will be smushed between 1 and zero causing them to be\n",
    "#Much closer togerther\n",
    "Y = np.matrix([[23, 56000],[35, 75000],[55, 76000],[108, 80000000]])\n",
    "Y_norm_scikit = skScaler.fit_transform(Y)\n",
    "print(Y_norm_scikit)"
   ]
  },
  {
   "cell_type": "code",
   "execution_count": null,
   "metadata": {},
   "outputs": [],
   "source": []
  }
 ],
 "metadata": {
  "kernelspec": {
   "display_name": "Python 3 (ipykernel)",
   "language": "python",
   "name": "python3"
  },
  "language_info": {
   "codemirror_mode": {
    "name": "ipython",
    "version": 3
   },
   "file_extension": ".py",
   "mimetype": "text/x-python",
   "name": "python",
   "nbconvert_exporter": "python",
   "pygments_lexer": "ipython3",
   "version": "3.10.2"
  }
 },
 "nbformat": 4,
 "nbformat_minor": 4
}
